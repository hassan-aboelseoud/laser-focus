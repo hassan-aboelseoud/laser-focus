{
 "cells": [
  {
   "cell_type": "markdown",
   "metadata": {},
   "source": [
    "This is a placeholder notebook which will be replaced soon."
   ]
  },
  {
   "cell_type": "code",
   "execution_count": 3,
   "metadata": {},
   "outputs": [],
   "source": [
    "from manim import *\n",
    "\n",
    "config.verbosity = \"WARNING\"\n",
    "config.media_width = \"75%\""
   ]
  },
  {
   "cell_type": "code",
   "execution_count": 5,
   "metadata": {},
   "outputs": [
    {
     "data": {
      "text/html": [
       "<pre style=\"white-space:pre;overflow-x:auto;line-height:normal;font-family:Menlo,'DejaVu Sans Mono',consolas,'Courier New',monospace\">Manim Community <span style=\"color: #008000; text-decoration-color: #008000\">v0.18.1</span>\n",
       "\n",
       "</pre>\n"
      ],
      "text/plain": [
       "Manim Community \u001b[32mv0.\u001b[0m\u001b[32m18.1\u001b[0m\n",
       "\n"
      ]
     },
     "metadata": {},
     "output_type": "display_data"
    },
    {
     "name": "stderr",
     "output_type": "stream",
     "text": [
      "                                                                                                                     \r"
     ]
    },
    {
     "data": {
      "text/html": [
       "<video src=\"media\\jupyter\\GaussLaw@2024-10-17@23-12-02.mp4\" controls autoplay loop style=\"max-width: 75%;\"  >\n",
       "      Your browser does not support the <code>video</code> element.\n",
       "    </video>"
      ],
      "text/plain": [
       "<IPython.core.display.Video object>"
      ]
     },
     "metadata": {},
     "output_type": "display_data"
    }
   ],
   "source": [
    "%%manim -qm GaussLaw\n",
    "\n",
    "class GaussLaw(Scene):\n",
    "    def construct(self):\n",
    "        gauss_eq = MathTex(r\"{{ \\Phi_E }} = {{ \\frac{Q_ {encl} }{\\epsilon_0} }}\")\n",
    "        gauss_expanded_eq = MathTex(r\"{{ \\oint_S \\vec{E} \\cdot d \\vec{A} }} = {{ \\frac{Q_ {encl} }{\\epsilon_0} }}\")\n",
    "        gauss_expanded_eq.align_to(gauss_eq, RIGHT)\n",
    "        self.play(Write(gauss_eq, run_time=2))\n",
    "        self.wait(1)\n",
    "        self.play(TransformMatchingTex(gauss_eq, gauss_expanded_eq, run_time=2))\n",
    "        self.wait(1)\n"
   ]
  }
 ],
 "metadata": {
  "kernelspec": {
   "display_name": ".venv",
   "language": "python",
   "name": "python3"
  },
  "language_info": {
   "codemirror_mode": {
    "name": "ipython",
    "version": 3
   },
   "file_extension": ".py",
   "mimetype": "text/x-python",
   "name": "python",
   "nbconvert_exporter": "python",
   "pygments_lexer": "ipython3",
   "version": "3.11.4"
  }
 },
 "nbformat": 4,
 "nbformat_minor": 2
}
